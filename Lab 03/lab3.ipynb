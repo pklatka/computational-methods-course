{
 "cells": [
  {
   "attachments": {},
   "cell_type": "markdown",
   "metadata": {},
   "source": [
    "# Labolatorium nr 3"
   ]
  },
  {
   "attachments": {},
   "cell_type": "markdown",
   "metadata": {},
   "source": [
    "## Import bibliotek oraz ich konfiguracja"
   ]
  },
  {
   "cell_type": "code",
   "execution_count": 109,
   "metadata": {},
   "outputs": [],
   "source": [
    "import numpy as np\n",
    "import matplotlib.pyplot as plt\n",
    "import pandas as pd\n",
    "import time\n",
    "\n",
    "# Matplotlib settings\n",
    "%matplotlib inline\n",
    "%config InlineBackend.figure_format = 'retina'\n",
    "plt.style.use('ggplot')"
   ]
  },
  {
   "attachments": {},
   "cell_type": "markdown",
   "metadata": {},
   "source": [
    "## Testowane funkcje"
   ]
  },
  {
   "cell_type": "code",
   "execution_count": 140,
   "metadata": {},
   "outputs": [],
   "source": [
    "def fn1(x, prec):\n",
    "    return prec(np.cos(x)*np.cosh(x)-1)\n",
    "\n",
    "def fn1_prim(x, prec):\n",
    "    return prec(-np.sin(x)*np.cosh(x) + np.cos(x)*np.sinh(x))\n",
    "\n",
    "def fn2(x, prec):\n",
    "    return prec(1/x - np.tan(x))\n",
    "\n",
    "def fn2_prim(x, prec):\n",
    "    return prec(-1/(x**2) - 1/(np.cos(x)**2))\n",
    "\n",
    "def fn3(x, prec):\n",
    "    return prec(np.power(2, -x) + np.exp(x) + 2*np.cos(x) - 6)\n",
    "\n",
    "def fn3_prim(x, prec):\n",
    "    return prec(-np.log(2)*np.power(2, -x) + np.exp(x) - 2*np.sin(x))"
   ]
  },
  {
   "attachments": {},
   "cell_type": "markdown",
   "metadata": {},
   "source": [
    "## Zadanie 1 - Metoda bisekcji"
   ]
  },
  {
   "cell_type": "code",
   "execution_count": 146,
   "metadata": {},
   "outputs": [],
   "source": [
    "def bisection_method(fn, prec, a, b, epsilon, n_max=-1):\n",
    "    if n_max != -1:\n",
    "        n = 1\n",
    "        a = prec(a)\n",
    "        b = prec(b)\n",
    "        while n <= n_max:\n",
    "            c = prec((b-a)/2 + a)\n",
    "            if np.sign(fn(c, prec)) == np.sign(fn(a, prec)):\n",
    "                a = c\n",
    "            else:\n",
    "                b = c\n",
    "            n += 1\n",
    "\n",
    "        return c, n\n",
    "\n",
    "    n_max = int(np.ceil((np.log(b-a)-np.log(epsilon))/np.log(2)))\n",
    "    n = 1\n",
    "    a = prec(a)\n",
    "    b = prec(b)\n",
    "    while n <= n_max:\n",
    "        c = prec((b-a)/2 + a)\n",
    "        if fn(c, prec) == 0 or (b-a)/2 < epsilon:\n",
    "            break\n",
    "        if np.sign(fn(c, prec)) == np.sign(fn(a, prec)):\n",
    "            a = c\n",
    "        else:\n",
    "            b = c\n",
    "\n",
    "        n += 1\n",
    "\n",
    "    return c, n_max\n"
   ]
  },
  {
   "attachments": {},
   "cell_type": "markdown",
   "metadata": {},
   "source": [
    "### Przykładowe wywołania"
   ]
  },
  {
   "cell_type": "code",
   "execution_count": 147,
   "metadata": {},
   "outputs": [
    {
     "name": "stdout",
     "output_type": "stream",
     "text": [
      "(4.7300407137759521003, 24)\n",
      "(4.73004074486270388, 51)\n",
      "(4.7300407448627040264, 111)\n"
     ]
    }
   ],
   "source": [
    "print(bisection_method(fn1, np.float128, np.pi*3/2, np.pi*2, 1e-7))\n",
    "print(bisection_method(fn1, np.float128, np.pi*3/2, np.pi*2, 1e-15))\n",
    "print(bisection_method(fn1, np.float128, np.pi*3/2, np.pi*2, 1e-33))"
   ]
  },
  {
   "cell_type": "code",
   "execution_count": 148,
   "metadata": {},
   "outputs": [
    {
     "name": "stdout",
     "output_type": "stream",
     "text": [
      "(0.8603336598095483945, 24)\n",
      "(0.8603335890193800182, 51)\n",
      "(0.8603335890193797625, 111)\n"
     ]
    }
   ],
   "source": [
    "print(bisection_method(fn2, np.float128, 0.0001, np.pi/2, 1e-7))\n",
    "print(bisection_method(fn2, np.float128, 0.0001, np.pi/2, 1e-15))\n",
    "print(bisection_method(fn2, np.float128, 0.0001, np.pi/2, 1e-33))"
   ]
  },
  {
   "cell_type": "code",
   "execution_count": 149,
   "metadata": {},
   "outputs": [
    {
     "name": "stdout",
     "output_type": "stream",
     "text": [
      "(1.829383552074432373, 25)\n",
      "(1.8293836019338494125, 51)\n",
      "(1.8293836019338488182, 111)\n"
     ]
    }
   ],
   "source": [
    "print(bisection_method(fn3, np.float128, 1, 3, 1e-7))\n",
    "print(bisection_method(fn3, np.float128, 1, 3, 1e-15))\n",
    "print(bisection_method(fn3, np.float128, 1, 3,  1e-33))"
   ]
  },
  {
   "attachments": {},
   "cell_type": "markdown",
   "metadata": {},
   "source": [
    "## Zadanie 2 - Metoda Newtona"
   ]
  },
  {
   "cell_type": "code",
   "execution_count": 150,
   "metadata": {},
   "outputs": [],
   "source": [
    "def newton_method(fn, fn_prim, prec, a, b, n_max=-1, epsilon=0):\n",
    "    x0 = bisection_method(fn, prec, a, b, 0, 1)[0]\n",
    "    if n_max == -1:\n",
    "        # Use epsilon\n",
    "        n_max = 100\n",
    "        n = 1\n",
    "        x0 = prec(x0)\n",
    "        while True:\n",
    "            x1 = prec(x0 - fn(x0, prec)/fn_prim(x0, prec))\n",
    "            if abs(x1-x0) < epsilon:\n",
    "                break\n",
    "            x0 = x1\n",
    "            n += 1\n",
    "\n",
    "        return x1, n\n",
    "\n",
    "    else:\n",
    "        # Use n_max\n",
    "        x0 = prec(x0)\n",
    "        for i in range(n_max):\n",
    "            x1 = prec(x0 - fn(x0, prec)/fn_prim(x0, prec))\n",
    "            x0 = x1\n",
    "\n",
    "        return x1, n_max\n"
   ]
  },
  {
   "attachments": {},
   "cell_type": "markdown",
   "metadata": {},
   "source": [
    "### Przykładowe wywołania"
   ]
  },
  {
   "cell_type": "code",
   "execution_count": 151,
   "metadata": {},
   "outputs": [
    {
     "name": "stdout",
     "output_type": "stream",
     "text": [
      "(4.730040744862704026, 7)\n",
      "(4.7837595197106524856, 2)\n"
     ]
    }
   ],
   "source": [
    "print(newton_method(fn1, fn1_prim, np.float128, np.pi*3/2, np.pi*2, -1, 1e-15))\n",
    "print(newton_method(fn1, fn1_prim, np.float128, np.pi*3/2, np.pi*2, 2))"
   ]
  },
  {
   "cell_type": "code",
   "execution_count": 152,
   "metadata": {},
   "outputs": [
    {
     "name": "stdout",
     "output_type": "stream",
     "text": [
      "(0.8603335890193797625, 5)\n",
      "(0.86033367482400727763, 2)\n"
     ]
    }
   ],
   "source": [
    "print(newton_method(fn2, fn2_prim,  np.float128, 0.0001, np.pi/2, -1, 1e-15))\n",
    "print(newton_method(fn2, fn2_prim,  np.float128, 0.0001, np.pi/2, 2))"
   ]
  },
  {
   "cell_type": "code",
   "execution_count": 153,
   "metadata": {},
   "outputs": [
    {
     "name": "stdout",
     "output_type": "stream",
     "text": [
      "(1.8293836019338488182, 6)\n",
      "(1.8297512018954993007, 2)\n"
     ]
    }
   ],
   "source": [
    "print(newton_method(fn3, fn3_prim,  np.float128, 1, 3, -1, 1e-15))\n",
    "print(newton_method(fn3, fn3_prim,  np.float128, 1, 3,  2))"
   ]
  },
  {
   "attachments": {},
   "cell_type": "markdown",
   "metadata": {},
   "source": [
    "## Zadanie 3 - Metoda siecznych"
   ]
  },
  {
   "cell_type": "code",
   "execution_count": 154,
   "metadata": {},
   "outputs": [],
   "source": [
    "def secant_method(fn, prec, a, b, n_max=-1, epsilon=0):\n",
    "    x0 = bisection_method(fn, prec, a, b, 0, 1)[0]\n",
    "    x1 = bisection_method(fn, prec, a, b, 0, 2)[0]\n",
    "\n",
    "    if n_max == -1:\n",
    "        # Use epsilon\n",
    "        x0 = prec(x0)\n",
    "        x1 = prec(x1)\n",
    "        n = 1\n",
    "        while True:\n",
    "            x2 = prec(x1 - fn(x1, prec)*(x1-x0)/(fn(x1, prec)-fn(x0, prec)))\n",
    "            if abs(x2-x1) < epsilon:\n",
    "                break\n",
    "            x0 = x1\n",
    "            x1 = x2\n",
    "            n += 1\n",
    "        return x2, n\n",
    "\n",
    "    else:\n",
    "        # Use n_max\n",
    "        x0 = prec(x0)\n",
    "        x1 = prec(x1)\n",
    "        for i in range(n_max):\n",
    "            x2 = prec(x1 - fn(x1, prec)*(x1-x0)/(fn(x1, prec)-fn(x0, prec)))\n",
    "            x0 = x1\n",
    "            x1 = x2\n",
    "        return x2, n_max\n"
   ]
  },
  {
   "attachments": {},
   "cell_type": "markdown",
   "metadata": {},
   "source": [
    "### Przykładowe wywołania"
   ]
  },
  {
   "cell_type": "code",
   "execution_count": 155,
   "metadata": {},
   "outputs": [
    {
     "name": "stdout",
     "output_type": "stream",
     "text": [
      "(4.730040744862704026, 8)\n",
      "(4.7722946609192789, 2)\n"
     ]
    }
   ],
   "source": [
    "print(secant_method(fn1, np.float128, np.pi*3/2, np.pi*2, -1, 1e-15))\n",
    "print(secant_method(fn1, np.float128, np.pi*3/2, np.pi*2, 2))"
   ]
  },
  {
   "cell_type": "code",
   "execution_count": 156,
   "metadata": {},
   "outputs": [
    {
     "name": "stdout",
     "output_type": "stream",
     "text": [
      "(0.8603335890193797625, 7)\n",
      "(0.85631295909094234345, 2)\n"
     ]
    }
   ],
   "source": [
    "print(secant_method(fn2,  np.float128, 0.0001, np.pi/2, -1, 1e-15))\n",
    "print(secant_method(fn2,  np.float128, 0.0001, np.pi/2, 2))"
   ]
  },
  {
   "cell_type": "code",
   "execution_count": 157,
   "metadata": {},
   "outputs": [
    {
     "name": "stdout",
     "output_type": "stream",
     "text": [
      "(1.8293836019338488181, 8)\n",
      "(1.8457791814990760076, 2)\n"
     ]
    }
   ],
   "source": [
    "print(secant_method(fn3,  np.float128, 1, 3, -1, 1e-15))\n",
    "print(secant_method(fn3,  np.float128, 1, 3,  2))"
   ]
  }
 ],
 "metadata": {
  "kernelspec": {
   "display_name": "Python 3",
   "language": "python",
   "name": "python3"
  },
  "language_info": {
   "codemirror_mode": {
    "name": "ipython",
    "version": 3
   },
   "file_extension": ".py",
   "mimetype": "text/x-python",
   "name": "python",
   "nbconvert_exporter": "python",
   "pygments_lexer": "ipython3",
   "version": "3.10.9"
  },
  "orig_nbformat": 4
 },
 "nbformat": 4,
 "nbformat_minor": 2
}
